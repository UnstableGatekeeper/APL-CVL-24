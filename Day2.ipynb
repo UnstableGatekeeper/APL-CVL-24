{
 "cells": [
  {
   "cell_type": "code",
   "execution_count": 1,
   "id": "1a484a28-8c8c-4965-b950-b3ff790d0ff5",
   "metadata": {},
   "outputs": [],
   "source": [
    "import numpy as np"
   ]
  },
  {
   "cell_type": "code",
   "execution_count": 4,
   "id": "2cbb7a1f-9fa6-4170-ac4c-e85d2b364e92",
   "metadata": {},
   "outputs": [],
   "source": [
    "import matplotlib.pyplot as plt"
   ]
  },
  {
   "cell_type": "code",
   "execution_count": 6,
   "id": "cb675120-3ce7-4d0e-bccc-da350fbf270f",
   "metadata": {},
   "outputs": [],
   "source": [
    "im = np.arange(2)"
   ]
  },
  {
   "cell_type": "code",
   "execution_count": 8,
   "id": "1e5c2ef7-3bf7-4dae-83c0-f76eca5b4871",
   "metadata": {},
   "outputs": [
    {
     "data": {
      "text/plain": [
       "array([0, 1])"
      ]
     },
     "execution_count": 8,
     "metadata": {},
     "output_type": "execute_result"
    }
   ],
   "source": [
    "im"
   ]
  },
  {
   "cell_type": "code",
   "execution_count": 10,
   "id": "3249e078-663f-4a0d-925f-631e5f74119c",
   "metadata": {},
   "outputs": [],
   "source": [
    "im = im[np.newaxis,:]"
   ]
  },
  {
   "cell_type": "code",
   "execution_count": 12,
   "id": "3b408f57-0124-4340-90f4-a93087c013b9",
   "metadata": {},
   "outputs": [
    {
     "data": {
      "text/plain": [
       "array([[0, 1]])"
      ]
     },
     "execution_count": 12,
     "metadata": {},
     "output_type": "execute_result"
    }
   ],
   "source": [
    "im"
   ]
  },
  {
   "cell_type": "code",
   "execution_count": 18,
   "id": "c75c2b67-c621-45bf-b5df-9761189ff37f",
   "metadata": {},
   "outputs": [],
   "source": [
    "im = np.repeat(im, 10, axis = 0)"
   ]
  },
  {
   "cell_type": "code",
   "execution_count": 20,
   "id": "07d8810a-fa2a-42cb-928a-a6f6e8673f79",
   "metadata": {},
   "outputs": [
    {
     "data": {
      "text/plain": [
       "array([[0, 1],\n",
       "       [0, 1],\n",
       "       [0, 1],\n",
       "       [0, 1],\n",
       "       [0, 1],\n",
       "       [0, 1],\n",
       "       [0, 1],\n",
       "       [0, 1],\n",
       "       [0, 1],\n",
       "       [0, 1]])"
      ]
     },
     "execution_count": 20,
     "metadata": {},
     "output_type": "execute_result"
    }
   ],
   "source": [
    "im"
   ]
  },
  {
   "cell_type": "code",
   "execution_count": 22,
   "id": "23525841-f0e7-4333-b21d-371d7f031b5c",
   "metadata": {},
   "outputs": [
    {
     "data": {
      "text/plain": [
       "<matplotlib.image.AxesImage at 0x15aa350f080>"
      ]
     },
     "execution_count": 22,
     "metadata": {},
     "output_type": "execute_result"
    },
    {
     "data": {
      "image/png": "[encoded data removed]",
      "text/plain": [
       "<Figure size 640x480 with 1 Axes>"
      ]
     },
     "metadata": {},
     "output_type": "display_data"
    }
   ],
   "source": [
    "plt.imshow(im, cmap = 'gray')"
   ]
  },
  {
   "cell_type": "code",
   "execution_count": 126,
   "id": "290ceabd-1198-49a1-9dce-6fe1c02e9808",
   "metadata": {},
   "outputs": [],
   "source": [
    "double_im = np.arange(256)"
   ]
  },
  {
   "cell_type": "code",
   "execution_count": 128,
   "id": "64e63fe0-b85a-4e3c-b559-8d93697b6e9c",
   "metadata": {},
   "outputs": [],
   "source": [
    "double_im = double_im[np.newaxis,:]"
   ]
  },
  {
   "cell_type": "code",
   "execution_count": 130,
   "id": "1f779580-c589-41e9-9bd4-7f6e794d0e1a",
   "metadata": {},
   "outputs": [
    {
     "data": {
      "text/plain": [
       "array([[  0,   1,   2,   3,   4,   5,   6,   7,   8,   9,  10,  11,  12,\n",
       "         13,  14,  15,  16,  17,  18,  19,  20,  21,  22,  23,  24,  25,\n",
       "         26,  27,  28,  29,  30,  31,  32,  33,  34,  35,  36,  37,  38,\n",
       "         39,  40,  41,  42,  43,  44,  45,  46,  47,  48,  49,  50,  51,\n",
       "         52,  53,  54,  55,  56,  57,  58,  59,  60,  61,  62,  63,  64,\n",
       "         65,  66,  67,  68,  69,  70,  71,  72,  73,  74,  75,  76,  77,\n",
       "         78,  79,  80,  81,  82,  83,  84,  85,  86,  87,  88,  89,  90,\n",
       "         91,  92,  93,  94,  95,  96,  97,  98,  99, 100, 101, 102, 103,\n",
       "        104, 105, 106, 107, 108, 109, 110, 111, 112, 113, 114, 115, 116,\n",
       "        117, 118, 119, 120, 121, 122, 123, 124, 125, 126, 127, 128, 129,\n",
       "        130, 131, 132, 133, 134, 135, 136, 137, 138, 139, 140, 141, 142,\n",
       "        143, 144, 145, 146, 147, 148, 149, 150, 151, 152, 153, 154, 155,\n",
       "        156, 157, 158, 159, 160, 161, 162, 163, 164, 165, 166, 167, 168,\n",
       "        169, 170, 171, 172, 173, 174, 175, 176, 177, 178, 179, 180, 181,\n",
       "        182, 183, 184, 185, 186, 187, 188, 189, 190, 191, 192, 193, 194,\n",
       "        195, 196, 197, 198, 199, 200, 201, 202, 203, 204, 205, 206, 207,\n",
       "        208, 209, 210, 211, 212, 213, 214, 215, 216, 217, 218, 219, 220,\n",
       "        221, 222, 223, 224, 225, 226, 227, 228, 229, 230, 231, 232, 233,\n",
       "        234, 235, 236, 237, 238, 239, 240, 241, 242, 243, 244, 245, 246,\n",
       "        247, 248, 249, 250, 251, 252, 253, 254, 255]])"
      ]
     },
     "execution_count": 130,
     "metadata": {},
     "output_type": "execute_result"
    }
   ],
   "source": [
    "double_im"
   ]
  },
  {
   "cell_type": "code",
   "execution_count": 132,
   "id": "835010b0-7c8f-4bc5-bb73-9aeb01e1d134",
   "metadata": {},
   "outputs": [],
   "source": [
    "double_im = np.repeat(double_im, 100, axis = 0)"
   ]
  },
  {
   "cell_type": "code",
   "execution_count": 138,
   "id": "531d428e-b30b-4b58-875f-cf3154bfb8a1",
   "metadata": {},
   "outputs": [
    {
     "data": {
      "text/plain": [
       "<matplotlib.image.AxesImage at 0x15aa485dbb0>"
      ]
     },
     "execution_count": 138,
     "metadata": {},
     "output_type": "execute_result"
    },
    {
     "data": {
      "image/png": "[encoded data removed]",
      "text/plain": [
       "<Figure size 640x480 with 1 Axes>"
      ]
     },
     "metadata": {},
     "output_type": "display_data"
    }
   ],
   "source": [
    "plt.imshow(double_im, cmap = 'PiYG')"
   ]
  },
  {
   "cell_type": "code",
   "execution_count": null,
   "id": "03720d11-112d-4249-9720-54c07d410ad1",
   "metadata": {},
   "outputs": [],
   "source": []
  }
 ],
 "metadata": {
  "kernelspec": {
   "display_name": "Python 3 (ipykernel)",
   "language": "python",
   "name": "python3"
  },
  "language_info": {
   "codemirror_mode": {
    "name": "ipython",
    "version": 3
   },
   "file_extension": ".py",
   "mimetype": "text/x-python",
   "name": "python",
   "nbconvert_exporter": "python",
   "pygments_lexer": "ipython3",
   "version": "3.12.4"
  }
 },
 "nbformat": 4,
 "nbformat_minor": 5
}
