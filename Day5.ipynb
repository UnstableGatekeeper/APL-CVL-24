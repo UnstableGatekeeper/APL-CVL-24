{
 "cells": [
  {
   "cell_type": "code",
   "execution_count": 1,
   "id": "5922db60-fa90-4c68-804a-a7adee304bbe",
   "metadata": {},
   "outputs": [],
   "source": [
    "import cv2\n",
    "import numpy as np\n",
    "import matplotlib.pyplot as plt"
   ]
  },
  {
   "cell_type": "markdown",
   "id": "8887d542-fac1-43f4-8fa1-b3d87066776c",
   "metadata": {},
   "source": [
    "# Image transformation\n",
    "\n",
    "### Image translation"
   ]
  },
  {
   "cell_type": "code",
   "execution_count": 5,
   "id": "e4d12263-d7be-4cd9-b244-b737811f6711",
   "metadata": {},
   "outputs": [],
   "source": [
    "or_img = cv2.imread('albert-einstein_gray.jpg', cv2.IMREAD_GRAYSCALE)"
   ]
  },
  {
   "cell_type": "code",
   "execution_count": 7,
   "id": "d4566857-ac13-4b99-a3bb-51c3168c2cce",
   "metadata": {},
   "outputs": [
    {
     "data": {
      "text/plain": [
       "(949, 728)"
      ]
     },
     "execution_count": 7,
     "metadata": {},
     "output_type": "execute_result"
    }
   ],
   "source": [
    "or_img.shape"
   ]
  },
  {
   "cell_type": "code",
   "execution_count": null,
   "id": "cf3b6087-af84-475a-a403-fe20f6ee8281",
   "metadata": {},
   "outputs": [],
   "source": [
    "def translate(src, )"
   ]
  }
 ],
 "metadata": {
  "kernelspec": {
   "display_name": "Python 3 (ipykernel)",
   "language": "python",
   "name": "python3"
  },
  "language_info": {
   "codemirror_mode": {
    "name": "ipython",
    "version": 3
   },
   "file_extension": ".py",
   "mimetype": "text/x-python",
   "name": "python",
   "nbconvert_exporter": "python",
   "pygments_lexer": "ipython3",
   "version": "3.12.4"
  }
 },
 "nbformat": 4,
 "nbformat_minor": 5
}
